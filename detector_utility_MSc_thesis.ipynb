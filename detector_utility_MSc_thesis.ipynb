{
 "cells": [
  {
   "cell_type": "code",
   "execution_count": 1,
   "id": "7a409ecc",
   "metadata": {},
   "outputs": [
    {
     "name": "stdout",
     "output_type": "stream",
     "text": [
      "Overwriting stripped_detector_utility.py\n"
     ]
    }
   ],
   "source": [
    "%%writefile stripped_detector_utility.py\n",
    "#%%writefile MUST be the first line of the notebook to write it to a .py file\n",
    "# This will write a python file to be used in other files (e.g. from spont_syn_detector_utility import * == aka from this file\n",
    "\n",
    "\"\"\"This utility function houses all the functions that we will use for correcting baseline fluorescence,\n",
    "calculating peak times, and calculating amplitudes. This file is the basis of all further calculations that are done\n",
    "Therefore, if something is wrong here, everything downstream will fail\"\"\"\n",
    "\n",
    "\n",
    "import pandas as pd\n",
    "import numpy as np\n",
    "import scipy.signal as signal\n",
    "import matplotlib.pyplot as plt\n",
    "\n",
    "from scipy.signal import find_peaks, peak_prominences #peak prominences was used in trouble shooting, will not remove for now\n",
    "from BaselineRemoval import BaselineRemoval\n",
    "\n",
    "rms_noise = 8.916729622552639\n",
    "\"\"\"#rms_noise was impirically established for this experiment, it might be variable and a function to automate this might \n",
    "be needed\n",
    " FOR CAMIN GCAMP6 SYNAPSES \"\"\"\n",
    "\n",
    "def single_synapse_peak_plotting(input_f, input_fneu, rms_noise = rms_noise):\n",
    "    \"\"\"This function is simply used for troubleshooting, this will quickly give you a readout\n",
    "    of the fluorescence output of each trace from a run of suite2p\"\"\"\n",
    "    corrected = input_f - (0.7*input_fneu)\n",
    "        # a standard subtraction of fluorescence background immediately surrounding each ROI\n",
    "    corrected = BaselineRemoval(corrected)\n",
    "    corrected = corrected.ZhangFit(repitition = 100)\n",
    "        # an adaptively weighted iterated modified polynomial fit that ignores peaks and corrects baseline to 0\n",
    "    threshold = np.median(corrected) + rms_noise\n",
    "    mini_peaks, _ = find_peaks(corrected, height = threshold)\n",
    "        # scipy find_peaks function\n",
    "        #then plot the traces you generate\n",
    "    plt.plot(corrected)\n",
    "    plt.plot(mini_peaks, corrected[mini_peaks], \"x\")\n",
    "    plt.plot(np.full_like(corrected, threshold), \"--\",color = \"grey\")\n",
    "    plt.plot(np.full_like(corrected, np.median(corrected)), \"--\", color = 'r')\n",
    "    plt.show()\n",
    "\n",
    "\n",
    "\n",
    "def single_synapse_baseline_correction_and_peak_return(input_f, input_fneu, rms_noise = rms_noise, return_peaks = True):\n",
    "    \"\"\"This function is the one that we will utilize in the pipeline to create a list of peak times\n",
    "    and their corresponding amplitudes. To return peak times, simply input a single f / fneu file and define rms_noise\n",
    "    before you enter into the pipeline\n",
    "    To make this function iterate over a F.npy and Fneu.npy file call the following:\n",
    "    \n",
    "        for x, y in zip(F, Fneu):\n",
    "            single_synapse_baseline_correction_and_peak_return(x,y,rms_noise) \n",
    "            \n",
    "        To return amplitudes, set 'return_peak' = False\"\"\"\n",
    "    \n",
    "    corrected_trace = input_f - (0.7*input_fneu)\n",
    "    corrected_trace = BaselineRemoval(corrected_trace)\n",
    "    corrected_trace = corrected_trace.ZhangFit(repitition = 100)\n",
    "    threshold = np.median(corrected_trace) + rms_noise\n",
    "    cell_peaks, _ = find_peaks(corrected_trace, height = threshold)\n",
    "    amplitudes = corrected_trace[cell_peaks] - np.median(corrected_trace)\n",
    "    \n",
    "    if return_peaks == True:\n",
    "        return cell_peaks\n",
    "    else:\n",
    "        return amplitudes\n",
    "\n",
    "# \"\"\" please go from this file to the suite2p_utility notebook to see how this will be used within Suite2p's output \"\"\" \n",
    "    \n"
   ]
  }
 ],
 "metadata": {
  "kernelspec": {
   "display_name": "Python 3 (ipykernel)",
   "language": "python",
   "name": "python3"
  },
  "language_info": {
   "codemirror_mode": {
    "name": "ipython",
    "version": 3
   },
   "file_extension": ".py",
   "mimetype": "text/x-python",
   "name": "python",
   "nbconvert_exporter": "python",
   "pygments_lexer": "ipython3",
   "version": "3.7.13"
  }
 },
 "nbformat": 4,
 "nbformat_minor": 5
}
