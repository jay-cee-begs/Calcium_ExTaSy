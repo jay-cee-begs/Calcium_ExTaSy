{
 "cells": [
  {
   "cell_type": "code",
   "execution_count": 2,
   "id": "0ebd51b3",
   "metadata": {},
   "outputs": [
    {
     "name": "stdout",
     "output_type": "stream",
     "text": [
      "Overwriting stripped_plotting_utility.py\n"
     ]
    }
   ],
   "source": [
    "%%writefile stripped_plotting_utility.py\n",
    "\n",
    "import pandas as pd\n",
    "import numpy as np\n",
    "import matplotlib.pyplot as plt\n",
    "import seaborn as sns\n",
    "import scipy.stats as stats\n",
    "import os\n",
    "\n",
    "\"\"\"\n",
    "below is an example structure for a dictionary for all the experiment files \n",
    "suite2one might implement this code as the following in a processing_pipeline:\n",
    "   \"\"\"\n",
    "example_experiment_structure = {\n",
    "    \"control\": {\n",
    "        \"coverslip01\": ['pickle file 1',\n",
    "                       'pickle file 2'],\n",
    "        \"coverslip02\": ['pickle file 1',\n",
    "                       'pickle file 2'],\n",
    "            },\n",
    "    \n",
    "    \"treatment group 1\": { \n",
    "        \"coverslip01\": ['pickle file 1',\n",
    "                       'pickle file 2'],\n",
    "        \"coverslip02\": ['pickle file 1',\n",
    "                       'pickle file 2'],\n",
    "          \n",
    "    },\n",
    "    \"treatment group 2\": {\n",
    "        \"coverslip01\": ['pickle file 1',\n",
    "                       'pickle file 2'],\n",
    "        \"coverslip02\": ['pickle file 1',\n",
    "                       'pickle file 2'],\n",
    "    }\n",
    "    \n",
    "        \n",
    "}\n",
    "_experiment_structure_example = {\n",
    "    \"control\": {\n",
    "        \"dataset1\": [\"file1\", \"file2\"]\n",
    "    },\n",
    "    \"APV\": {\n",
    "        \"dataset2\": [\"file3\", \"file4\"]\n",
    "    },\n",
    "    \"PDBu\": {\n",
    "        \"dataset3\": [\"file1\", \"file2\"]\n",
    "    },\n",
    "    \"CNQX\": {\n",
    "        \"dataset4\": [\"file3\", \"file4\"]\n",
    "    },\n",
    "}\n",
    "\n",
    "\n",
    "\n",
    "def build_experiment_dfs(input_path, experiment_structure):\n",
    "    \"\"\"This function will build the dataframes through which all of the graphs I built come from\n",
    "    This can be further filtered to remove synapses with 0 or 1 event(s); this would file also be where any iterative \n",
    "    code for making the graphs automatically would be placed\"\"\"\n",
    "    experiment_cell_stats, experiment_binned_stats = pd.DataFrame(), pd.DataFrame()\n",
    "\n",
    "    for group in experiment_structure.keys():\n",
    "        for dataset in experiment_structure[group].keys():\n",
    "            for file_name in experiment_structure[group][dataset]:\n",
    "                file_dict = pd.read_pickle(os.path.join(input_path, file_name))\n",
    "                cell_stats, binned_stats = file_dict[\"cell_stats\"], file_dict[\"binned_stats\"]\n",
    "                \n",
    "                for stats, experiment_stats in zip((cell_stats, binned_stats), \n",
    "                                                   (experiment_cell_stats, experiment_binned_stats)):\n",
    "                    stats[[\"group\", \"dataset\", \"file_name\"]] = group, dataset, file_name\n",
    "                experiment_cell_stats = pd.concat((experiment_cell_stats, cell_stats))\n",
    "                experiment_binned_stats = pd.concat((experiment_binned_stats, binned_stats))\n",
    "    return experiment_cell_stats, experiment_binned_stats\n",
    "        \n",
    "# After this is run, we are ready to process calcium imaging videos in bult"
   ]
  }
 ],
 "metadata": {
  "kernelspec": {
   "display_name": "Python 3 (ipykernel)",
   "language": "python",
   "name": "python3"
  },
  "language_info": {
   "codemirror_mode": {
    "name": "ipython",
    "version": 3
   },
   "file_extension": ".py",
   "mimetype": "text/x-python",
   "name": "python",
   "nbconvert_exporter": "python",
   "pygments_lexer": "ipython3",
   "version": "3.7.13"
  }
 },
 "nbformat": 4,
 "nbformat_minor": 5
}
