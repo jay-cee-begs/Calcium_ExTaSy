{
 "cells": [
  {
   "cell_type": "code",
   "execution_count": null,
   "id": "a6804a0f",
   "metadata": {},
   "outputs": [],
   "source": [
    "%%writefile hatem_call_functions.py\n",
    "\n",
    "import numpy as np\n",
    "import matplotlib.pyplot as plt\n",
    "import pandas as pd\n",
    "import matplotlib\n",
    "import matplotlib.cm as cm\n",
    "\n",
    "def getMaxImg(ops):\n",
    "    maxImg = ops[\"max_proj\"] # Also \"max_proj\", \"meanImg\", \"meanImgE\"\n",
    "    mimg = maxImg # Use suite-2p source-code naming\n",
    "    mimg1 = np.percentile(mimg,1)\n",
    "    mimg99 = np.percentile(mimg,99)\n",
    "    mimg = (mimg - mimg1) / (mimg99 - mimg1)\n",
    "    mimg = np.maximum(0,np.minimum(1,mimg))\n",
    "    mimg *= 255\n",
    "    mimg = mimg.astype(np.uint8)\n",
    "    return mimg\n",
    "\n"
   ]
  },
  {
   "cell_type": "code",
   "execution_count": 1,
   "id": "9f8c5bb4",
   "metadata": {},
   "outputs": [],
   "source": [
    "def boundary(ypix,xpix):\n",
    "    \"\"\" returns pixels of mask that are on the exterior of the mask \"\"\"\n",
    "    ypix = np.expand_dims(ypix.flatten(),axis=1)\n",
    "    xpix = np.expand_dims(xpix.flatten(),axis=1)\n",
    "    npix = ypix.shape[0]\n",
    "    if npix>0:\n",
    "        msk = np.zeros((np.ptp(ypix)+6, np.ptp(xpix)+6), np.bool)\n",
    "        msk[ypix-ypix.min()+3, xpix-xpix.min()+3] = True\n",
    "        msk = binary_dilation(msk)\n",
    "        msk = binary_fill_holes(msk)\n",
    "        k = np.ones((3,3),dtype=int) # for 4-connected\n",
    "        k = np.zeros((3,3),dtype=int); k[1] = 1; k[:,1] = 1 # for 8-connected\n",
    "        out = binary_dilation(msk==0, k) & msk\n",
    "\n",
    "        yext, xext = np.nonzero(out)\n",
    "        yext, xext = yext+ypix.min()-3, xext+xpix.min()-3\n",
    "    else:\n",
    "        yext = np.zeros((0,))\n",
    "        xext = np.zeros((0,))\n",
    "    return yext, xext\n",
    "\n",
    "\n",
    "def circle(med, r):\n",
    "    \"\"\" returns pixels of circle with radius 1.25x radius of cell (r) \"\"\"\n",
    "    theta = np.linspace(0.0,2*np.pi,100)\n",
    "    x = r*1.25 * np.cos(theta) + med[0]\n",
    "    y = r*1.25 * np.sin(theta) + med[1]\n",
    "    x = x.astype(np.int32)\n",
    "    y = y.astype(np.int32)\n",
    "    return x,y"
   ]
  }
 ],
 "metadata": {
  "kernelspec": {
   "display_name": "calcium_imaging",
   "language": "python",
   "name": "calcium_imaging"
  },
  "language_info": {
   "codemirror_mode": {
    "name": "ipython",
    "version": 3
   },
   "file_extension": ".py",
   "mimetype": "text/x-python",
   "name": "python",
   "nbconvert_exporter": "python",
   "pygments_lexer": "ipython3",
   "version": "3.9.16"
  }
 },
 "nbformat": 4,
 "nbformat_minor": 5
}
