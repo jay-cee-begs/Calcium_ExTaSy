{
 "cells": [
  {
   "cell_type": "code",
   "execution_count": 1,
   "id": "d2125fa9",
   "metadata": {},
   "outputs": [],
   "source": [
    "from spont_syn_detector_utility import *\n",
    "from spont_syn_suite2p_utility import *\n",
    "from spont_syn_analysis_utility import *\n",
    "from spont_syn_plotting_utility import *\n",
    "\n",
    "import numpy as np\n",
    "import pandas as pd\n",
    "import matplotlib.pyplot as plt\n",
    "import seaborn as sns\n",
    "import pynapple as nap\n",
    "import scipy.stats as stats\n",
    "import os\n",
    "import pickle"
   ]
  },
  {
   "cell_type": "code",
   "execution_count": null,
   "id": "65cac4df",
   "metadata": {},
   "outputs": [],
   "source": []
  },
  {
   "cell_type": "code",
   "execution_count": 2,
   "id": "eb85c4d0",
   "metadata": {},
   "outputs": [
    {
     "data": {
      "image/png": "[encoded data removed]",
      "text/plain": [
       "<Figure size 640x480 with 1 Axes>"
      ]
     },
     "metadata": {},
     "output_type": "display_data"
    }
   ],
   "source": [
    "with open(r'D:\\calcium imaging\\220930_C_DIV17_GCaMP6f\\cs3PDBu_above_baseline\\DIV17_cs3_baseline2PDBu2CNQX\\DIV17_cs3_baseline2PDBu2CNQXDur420sInt550msBin550ms_filtered.pkl', 'rb') as f:\n",
    "    data = pickle.load(f)\n",
    "df_cell_stats = data['cell_stats']\n",
    "df_cell_stats\n",
    "# i=0 #to plot w/o spaces\n",
    "for i, idx in enumerate(df_cell_stats['NeuronId']):\n",
    "#     print(idx)\n",
    "    plt.eventplot(df_cell_stats[df_cell_stats['NeuronId']==idx]['SpikesTimes'],lineoffsets=i,linelength=0.8)\n",
    "#     i+=1\n",
    "plt.tight_layout()"
   ]
  },
  {
   "cell_type": "code",
   "execution_count": null,
   "id": "59a11cbc",
   "metadata": {},
   "outputs": [],
   "source": [
    "## here I generate a dictionary that contains nap.Tsd (timeseries data) objects, which is easy to handle when you want to do\n",
    "## so you can later all each neurons with their ids\n",
    "\n",
    "my_tsd = {}\n",
    "for idx in df_cell_stats['NeuronId'][0:]:\n",
    "    my_tsd[idx] = nap.Tsd(t=df_cell_stats[df_cell_stats['NeuronId']==idx]['SpikesTimes'][idx],\n",
    "                          d=df_cell_stats[df_cell_stats['NeuronId']==idx]['Amplitudes'][idx],time_units='s')\n",
    "\n",
    "    \n",
    "## Define the intervals you want to extract, here the unit is in second, so might be different from frames.\n",
    "## You can later use the .restrict(intervals) function on the nap.Tsd object to only extract the events \n",
    "## happening in this period of time.\n",
    "\n",
    "Interval_1 = nap.IntervalSet(0,150)\n",
    "Interval_2 = nap.IntervalSet(150,290)\n",
    "Interval_3 = nap.IntervalSet(290,450)\n",
    "    \n",
    "interval_set = [Interval_1,\n",
    "                Interval_2,\n",
    "                Interval_3] \n",
    "\n",
    "## you can change this to any other interval values\n",
    "## There will be error messages when there is not spikes in the list after the restriction, \n",
    "## but you can just ignore that. Here I shut that down in this cell.\n",
    "\n",
    "import warnings\n",
    "warnings.filterwarnings('ignore')\n",
    "## just to get rid of the warnings\n",
    "\n",
    "\n",
    "## plot spike time vs amplitude in each intervals\n",
    "plt.figure()\n",
    "for i in range(3):\n",
    "    plt.title(f'interval {i+1}')\n",
    "    for idx in my_tsd.keys():\n",
    "        plt.plot(my_tsd[idx].restrict(interval_set[i]).index,my_tsd[idx].restrict(interval_set[i]).values,color=f'C{idx}',marker='o',ls='',alpha=0.5)\n",
    "    plt.ylabel('Amplitude')\n",
    "    plt.xlabel('Spike time (s)')\n",
    "    plt.tight_layout()\n",
    "    plt.show()\n",
    "\n",
    "## You can then just group the amplitude as you want for later analysis"
   ]
  },
  {
   "cell_type": "code",
   "execution_count": null,
   "id": "357ffbfe",
   "metadata": {},
   "outputs": [],
   "source": [
    "transient_count = []\n",
    "for idx in my_tsd.keys():\n",
    "    transient_count.append(my_tsd[idx].restrict(interval_set[0]).shape[0])"
   ]
  },
  {
   "cell_type": "code",
   "execution_count": null,
   "id": "e59cb5df",
   "metadata": {},
   "outputs": [],
   "source": [
    "transient_count = []\n",
    "for idx in my_tsd.keys():\n",
    "    transient_count.append(my_tsd[idx].restrict(interval_set[0]).shape[0])"
   ]
  },
  {
   "cell_type": "code",
   "execution_count": null,
   "id": "ff49ee60",
   "metadata": {},
   "outputs": [],
   "source": [
    "# FOR LARISSA\n",
    "\"\"\" We need to get the count of the total number of synapses present in a certain interval (e.g. len(transient_count) maybe\n",
    "        BUT it needs to ignore the rows where the count is 0 (which happens for a few synapses)\n",
    "\n",
    "    secondly, we also need to get an average amplitude for each individual synapse detected so that we can plot these\n",
    "    \n",
    "    lastly, we need to build a pandas dataframe with the following column structure:\n",
    "            \n",
    "        \n",
    "ROI # | transient_count | Average Amplitude | Frequency (transient # divided by # seconds) | condition (e.g. Baseline vs PDBu vs CNQX) | filename\n",
    "\"\"\""
   ]
  },
  {
   "cell_type": "code",
   "execution_count": null,
   "id": "fcde4120",
   "metadata": {},
   "outputs": [],
   "source": [
    "#convert to pandas and build dataframe\n",
    "\n",
    "pd.DataFrame(#insert variable)"
   ]
  }
 ],
 "metadata": {
  "kernelspec": {
   "display_name": "analysis",
   "language": "python",
   "name": "python3"
  },
  "language_info": {
   "codemirror_mode": {
    "name": "ipython",
    "version": 3
   },
   "file_extension": ".py",
   "mimetype": "text/x-python",
   "name": "python",
   "nbconvert_exporter": "python",
   "pygments_lexer": "ipython3",
   "version": "3.9.16"
  }
 },
 "nbformat": 4,
 "nbformat_minor": 5
}
