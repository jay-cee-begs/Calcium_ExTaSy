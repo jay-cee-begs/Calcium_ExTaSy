{
  "cells": [
    {
      "cell_type": "code",
      "execution_count": null,
      "metadata": {
        "collapsed": false
      },
      "outputs": [],
      "source": [
        "%matplotlib inline"
      ]
    },
    {
      "cell_type": "markdown",
      "metadata": {},
      "source": [
        "\n# Fluorescence decay analysis - 1\n\n## Introduction\nIn time-resolved fluorescence experiments the fluorescence intensity decay of a\nsample is monitored. To date this is mostly accomplished by repeatedly exciting\nthe sample by a short laser pulse and recording the time between the sample excitation\nand the detection of photons. In such pulsed experiments the micro time in a ``TTTR``\nobject encodes the time between the excitation pulse and the detection of the photon.\nIn analogue counting electronics is mostly operated in an inverse mode where the\ntime between the photon and the subsequent detection pulse is recorded. After multiple\nphotons have been recorded fluorescence decay histograms are computed. The shape\nof these histograms corresponds to the underlying fluorescence decay, f(t).\n\nIn many cases fluorescence decays can be described by linear combinations of\nexponential decays. The ``Decay`` class of ``tttrlib`` computes models for fluorescence\ndecays, f(t), fluorescence intensity decay histograms, h(t), and to scores models\nagainst experimental decay histograms. The ``Decay`` class handles typical artifacts\nencountered in fluorescence decays such as scattered light, constant backgrounds,\nconvolutions with the instrument response function :cite:`oconnor_time-correlated_2012`,\npile-up artifacts :cite:`coates_correction_1968`, differential non-linearity of the\nmicro time channels :cite:`becker_advanced_2005` and more.\n\nBelow the basic usage of the ``Decay`` class is outlined with a few application\nexamples. These examples can be used as starting point for custom analysis pipelines,\ne.g. for burst-wise single-molecule analysis, pixel-wise FLIM analysis or analysis\nover larger ensembles of molecules or pixels.\n\n## Decay histograms\n\n.. code-block::python\n\n    tttr_object = tttrlib.TTTR('../../test/data/BH/BH_SPC132.spc', 'SPC-130')\n    micro_time_coarsening = 8\n    counts, bins = fit2x.Decay.compute_microtime_histogram(\n        tttr_object,\n        micro_time_coarsening=micro_time_coarsening,\n    )\n\n\n\n## Decay class\nFluorescence decays can be either computed using the static method provided by the\n``Decay`` class or\nCreate an instance the ``Decay`` class\n\n.. code-block::python\n\n    decay_object = fit2x.Decay(\n        data=data_decay.astype(np.float64),\n        instrument_response_function=irf.astype(np.float64),\n        time_axis=time_axis,\n        period=data.header.macro_time_resolution\n    )\n\n\nSingle-molecule\n"
      ]
    },
    {
      "cell_type": "code",
      "execution_count": null,
      "metadata": {
        "collapsed": false
      },
      "outputs": [],
      "source": [
        "import matplotlib.pylab as plt\nimport scipy.optimize\nimport scipy.stats\nimport numpy as np\nimport tttrlib\nimport fit2x\n\n\ndef objective_function_chi2(\n        x: np.ndarray,\n        decay_object: fit2x.Decay,\n        x_min: int = 20,\n        x_max: int = 150\n):\n    scatter, background, time_shift, irf_background = x[0:4]\n    lifetime_spectrum = x[4:]\n    decay_object.set_lifetime_spectrum(lifetime_spectrum)\n    decay_object.irf_background_counts = irf_background\n    decay_object.scatter_fraction = scatter\n    decay_object.constant_offset = background\n    decay_object.irf_shift = time_shift\n    # wres = decay_object.get_weighted_residuals()\n    # return np.sum(wres[x_min:x_max]**2)\n    return decay_object.get_score(x_min, x_max)\n\n\ndef objective_function_mle(\n        x: np.ndarray,\n        x0: np.ndarray,\n        decay_object: fit2x.Decay,\n        x_min: int = 20,\n        x_max: int = 500,\n        use_amplitude_prior: bool = True,\n        use_initial_prior: bool = True,\n        amplitude_bias: float = 5.0,\n        initial_sd: float = 5.0,\n        verbose: bool = False\n):\n    scatter, background, time_shift, irf_background = x[0:4]\n    lifetime_spectrum = np.abs(x[4:])\n    decay_object.set_lifetime_spectrum(lifetime_spectrum)\n    decay_object.irf_background_counts = irf_background\n    decay_object.scatter_fraction = scatter\n    decay_object.constant_offset = background\n    decay_object.irf_shift = time_shift\n    chi2_mle = decay_object.get_score(x_min, x_max, score_type=\"poisson\")\n    # d = decay_object.get_data()[x_min:x_max]\n    # m = decay_object.get_model()[x_min:x_max]\n    # return np.sum((m - d) - d * np.log(m/d))\n    ap = 0.0\n    if use_amplitude_prior:\n        p = lifetime_spectrum[::2]\n        a = np.ones_like(p) + amplitude_bias\n        ap = scipy.stats.dirichlet.logpdf(p / np.sum(p), a)\n        chi2_mle += ap\n    ip = 0.0\n    if use_initial_prior:\n        ip = -np.sum(np.log(1./((1+((x - x0) / initial_sd)**2.0))))\n        chi2_mle += ip\n    if verbose:\n        print(\"Total log prob: %s\" % chi2_mle)\n        print(\"Parameter log prior: %s\" % ip)\n        print(\"Dirichlet amplitude log pdf: %s\" % ap)\n        print(\"---\")\n    return chi2_mle"
      ]
    },
    {
      "cell_type": "markdown",
      "metadata": {},
      "source": [
        "### Prepare data\n\n"
      ]
    },
    {
      "cell_type": "code",
      "execution_count": null,
      "metadata": {
        "collapsed": false
      },
      "outputs": [],
      "source": [
        "# load file\nspc132_filename = '../../test/data/bh_spc132_sm_dna/m000.spc'\ndata = tttrlib.TTTR(spc132_filename, 'SPC-130')\nch0_indeces = data.get_selection_by_channel([0, 8])\ndata_ch0 = data[ch0_indeces]\n\nn_bins = 512\n# selection from tttr object\ncr_selection = data_ch0.get_selection_by_count_rate(\n    time_window=6.0, n_ph_max=7\n)\nlow_count_selection = data_ch0[cr_selection]\n# create histogram for IRF\nirf, _ = np.histogram(low_count_selection.micro_times, bins=n_bins)\n\n# Select high count regions\n# equivalent selection using selection function\ncr_selection = tttrlib.selection_by_count_rate(\n    data_ch0.macro_times,\n    0.100, n_ph_max=5,\n    macro_time_calibration=data.header.macro_time_resolution / 1e6,\n    invert=True\n)\nhigh_count_selection = data_ch0[cr_selection]\ndata_decay, _ = np.histogram(high_count_selection.micro_times, bins=n_bins)\ntime_axis = np.arange(0, n_bins) * data.header.micro_time_resolution * 4096 / n_bins"
      ]
    },
    {
      "cell_type": "markdown",
      "metadata": {},
      "source": [
        "### Make decay object\n\n"
      ]
    },
    {
      "cell_type": "code",
      "execution_count": null,
      "metadata": {
        "collapsed": false
      },
      "outputs": [],
      "source": [
        "decay_object = fit2x.Decay(\n    data=data_decay.astype(np.float64),\n    irf_histogram=irf.astype(np.float64),\n    time_axis=time_axis,\n    excitation_period=data.header.macro_time_resolution,\n    lifetime_spectrum=[1., 1.2, 1., 3.5]\n)\ndecay_object.evaluate()\n\n# A minimum number of photons should be in each channel\n# as no MLE is used and Gaussian distributed errors are assumed\nsel = np.where(data_decay > 1)[0]\nx_min = 10 #int(min(sel))\n\n# The BH card are not linear at the end of the TAC. Thus\n# fit not the full range\nx_max = 450 #max(sel)\n\n# Set some initial values for the fit\nscatter = [0.05]\nbackground = [2.01]\ntime_shift = [2]\nirf_background = [5]\nlifetime_spectrum = [0.5, 0.5, 0.5, 3.5]"
      ]
    },
    {
      "cell_type": "markdown",
      "metadata": {},
      "source": [
        "### Optimize                    #\n\n"
      ]
    },
    {
      "cell_type": "code",
      "execution_count": null,
      "metadata": {
        "collapsed": false
      },
      "outputs": [],
      "source": [
        "x0 = np.hstack(\n    [\n        scatter,\n        background,\n        time_shift,\n        irf_background,\n        lifetime_spectrum\n    ]\n)\nfit = scipy.optimize.minimize(\n    objective_function_mle, x0,\n    args=(x0, decay_object, x_min, x_max, False, False)\n)\nfit_mle = fit.x\n\nx0 = np.hstack([scatter, background, time_shift, irf_background, lifetime_spectrum])\nfit = scipy.optimize.minimize(\n    objective_function_mle, x0,\n    args=(x0, decay_object, x_min, x_max)\n)\nfit_map = fit.x"
      ]
    },
    {
      "cell_type": "markdown",
      "metadata": {},
      "source": [
        "### Plot                        #\n\n"
      ]
    },
    {
      "cell_type": "code",
      "execution_count": null,
      "metadata": {
        "collapsed": false
      },
      "outputs": [],
      "source": [
        "fig, ax = plt.subplots(nrows=2, ncols=1, sharex=True, sharey=False)\nax[1].semilogy(time_axis, irf, label=\"IRF\")\nax[1].semilogy(time_axis, data_decay, label=\"Data\")\nax[1].semilogy(\n    time_axis[x_min:x_max],\n    decay_object.model[x_min:x_max], label=\"Model\"\n)\nax[1].legend()\nax[0].plot(\n    time_axis[x_min:x_max],\n    decay_object.weighted_residuals[x_min:x_max],\n    label='w.res.',\n    color='green'\n)\nplt.show()"
      ]
    }
  ],
  "metadata": {
    "kernelspec": {
      "display_name": "Python 3",
      "language": "python",
      "name": "python3"
    },
    "language_info": {
      "codemirror_mode": {
        "name": "ipython",
        "version": 3
      },
      "file_extension": ".py",
      "mimetype": "text/x-python",
      "name": "python",
      "nbconvert_exporter": "python",
      "pygments_lexer": "ipython3",
      "version": "3.7.9"
    }
  },
  "nbformat": 4,
  "nbformat_minor": 0
}