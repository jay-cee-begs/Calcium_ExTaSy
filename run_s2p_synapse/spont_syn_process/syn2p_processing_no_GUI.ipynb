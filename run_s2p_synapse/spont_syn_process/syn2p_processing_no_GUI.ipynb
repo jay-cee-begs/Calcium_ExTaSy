{
 "cells": [
  {
   "cell_type": "code",
   "execution_count": 21,
   "id": "073abee8",
   "metadata": {},
   "outputs": [],
   "source": [
    "from pathlib import Path\n",
    "import numpy as np \n",
    "from scipy import stats\n",
    "import sys\n",
    "sys.path.insert(0, 'C:\\\\Users\\\\jcbegs\\\\.conda\\\\envs\\\\suite2p-main\\\\Lib\\\\site-packages\\\\suite2p\\\\')\n",
    "\n",
    "from suite2p import default_ops, run_s2p\n",
    "from suite2p.extraction.extract import *\n"
   ]
  },
  {
   "cell_type": "code",
   "execution_count": 23,
   "id": "f8a0b9dd",
   "metadata": {},
   "outputs": [
    {
     "name": "stdout",
     "output_type": "stream",
     "text": [
      "{'suite2p_version': '0.13.1', 'look_one_level_down': False, 'fast_disk': [], 'delete_bin': False, 'mesoscan': False, 'bruker': False, 'bruker_bidirectional': False, 'h5py': [], 'h5py_key': 'data', 'nwb_file': '', 'nwb_driver': '', 'nwb_series': '', 'save_path0': [], 'save_folder': [], 'subfolders': [], 'move_bin': False, 'nplanes': 1, 'nchannels': 1, 'functional_chan': 1, 'tau': 0.5, 'fs': 20, 'force_sktiff': False, 'frames_include': -1, 'multiplane_parallel': False, 'ignore_flyback': [], 'preclassify': 0.0, 'save_mat': False, 'save_NWB': False, 'combined': True, 'aspect': 1.0, 'do_bidiphase': False, 'bidiphase': 0, 'bidi_corrected': False, 'do_registration': False, 'two_step_registration': False, 'keep_movie_raw': False, 'nimg_init': 600, 'batch_size': 500, 'maxregshift': 0.1, 'align_by_chan': 1, 'reg_tif': False, 'reg_tif_chan2': False, 'subpixel': 10, 'smooth_sigma_time': 0, 'smooth_sigma': 1.15, 'th_badframes': 1.0, 'norm_frames': True, 'force_refImg': False, 'pad_fft': False, 'nonrigid': True, 'block_size': [128, 128], 'snr_thresh': 1.2, 'maxregshiftNR': 5, '1Preg': False, 'spatial_hp_reg': 42, 'pre_smooth': 0, 'spatial_taper': 40, 'roidetect': True, 'spikedetect': False, 'sparse_mode': 1, 'spatial_scale': 2, 'connected': True, 'nbinned': 5000, 'max_iterations': 20, 'threshold_scaling': 2.0, 'max_overlap': 0.5, 'high_pass': 100, 'spatial_hp_detect': 20, 'denoise': True, 'anatomical_only': 0, 'diameter': 8.0, 'cellprob_threshold': 0.0, 'flow_threshold': 1.5, 'spatial_hp_cp': 0, 'pretrained_model': 'cyto', 'soma_crop': True, 'neuropil_extract': True, 'inner_neuropil_radius': 2, 'min_neuropil_pixels': 200, 'lam_percentile': 50.0, 'allow_overlap': False, 'use_builtin_classifier': False, 'classifier_path': '', 'chan2_thres': 0.65, 'baseline': 'maximin', 'win_baseline': 30, 'sig_baseline': 10.0, 'prctile_baseline': 8.0, 'neucoeff': 0.7}\n"
     ]
    }
   ],
   "source": [
    "print(main_synapse_ops)"
   ]
  },
  {
   "cell_type": "code",
   "execution_count": 27,
   "id": "aee50195",
   "metadata": {},
   "outputs": [
    {
     "name": "stdout",
     "output_type": "stream",
     "text": [
      "{'suite2p_version': '0.13.0', 'look_one_level_down': 0.0, 'fast_disk': [], 'delete_bin': True, 'mesoscan': False, 'bruker': False, 'bruker_bidirectional': False, 'h5py': [], 'h5py_key': 'data', 'nwb_file': '', 'nwb_driver': '', 'nwb_series': '', 'save_path0': [], 'save_folder': [], 'subfolders': [], 'move_bin': False, 'nplanes': 1, 'nchannels': 1, 'functional_chan': 1, 'tau': 0.5, 'fs': 20.0, 'force_sktiff': False, 'frames_include': -1, 'multiplane_parallel': 0.0, 'ignore_flyback': [], 'preclassify': 0.0, 'save_mat': False, 'save_NWB': 0.0, 'combined': 1.0, 'aspect': 1.0, 'do_bidiphase': False, 'bidiphase': 0.0, 'bidi_corrected': False, 'do_registration': 0, 'two_step_registration': 0.0, 'keep_movie_raw': False, 'nimg_init': 600, 'batch_size': 500, 'maxregshift': 0.1, 'align_by_chan': 1, 'reg_tif': False, 'reg_tif_chan2': False, 'subpixel': 10, 'smooth_sigma_time': 0.0, 'smooth_sigma': 1.15, 'th_badframes': 1.0, 'norm_frames': True, 'force_refImg': False, 'pad_fft': False, 'nonrigid': True, 'block_size': [128, 128], 'snr_thresh': 1.2, 'maxregshiftNR': 5.0, '1Preg': False, 'spatial_hp_reg': 42.0, 'pre_smooth': 0.0, 'spatial_taper': 40.0, 'roidetect': True, 'spikedetect': False, 'sparse_mode': False, 'spatial_scale': 0, 'connected': True, 'nbinned': 5000, 'max_iterations': 20, 'threshold_scaling': 3.0, 'max_overlap': 0.5, 'high_pass': 100.0, 'spatial_hp_detect': 25.0, 'denoise': 0.0, 'anatomical_only': 4, 'diameter': 8, 'cellprob_threshold': 0.1, 'flow_threshold': 0.0, 'spatial_hp_cp': 0.0, 'pretrained_model': 'cyto', 'soma_crop': 0.0, 'neuropil_extract': True, 'inner_neuropil_radius': 2, 'min_neuropil_pixels': 200, 'lam_percentile': 50.0, 'allow_overlap': False, 'use_builtin_classifier': False, 'classifier_path': '', 'chan2_thres': 0.65, 'baseline': 'maximin', 'win_baseline': 150.0, 'sig_baseline': 10.0, 'prctile_baseline': 8.0, 'neucoeff': 0.7}\n"
     ]
    }
   ],
   "source": [
    "main_synapse_ops  = default_ops()\n",
    "\n",
    "main_synapse_ops['connected'] = True\n",
    "main_synapse_ops['tau'] = 0.5\n",
    "main_synapse_ops['fs'] = 20\n",
    "main_synapse_ops[\"do_registration\"] = False\n",
    "main_synapse_ops[\"nimg_init\"] = 600\n",
    "main_synapse_ops[\"sparse_mode\"] = 1\n",
    "main_synapse_ops[\"denoise\"] = True\n",
    "main_synapse_ops[\"threshold_scaling\"] = 2.0\n",
    "main_synapse_ops[\"max_overlap\"] = 0.5\n",
    "main_synapse_ops[\"min_neuropil_pixels\"] = 200\n",
    "main_synapse_ops[\"spikedetect\"] = False\n",
    "main_synapse_ops[\"win_baseline\"] = 30\n",
    "main_synapse_ops[\"diameter\"] = 8.0\n",
    "main_synapse_ops['spatial_hp_detect'] = 20\n",
    "main_synapse_ops['sig_baseline'] = 10.0\n",
    "main_synapse_ops[\"baseline\"] = 'maximin' #alternate is prctile_basleine by removing a percentile of trace as baseline subtraction\n",
    "main_synapse_ops['spatial_scale'] = 2\n",
    "main_synapse_ops['delete_bin'] = True\n",
    "\n",
    "test=np.load(r'C:\\Users\\jcbegs\\python3\\suite2p_ops\\cellpose_pipeline_ROI.npy', allow_pickle=True)\n",
    "print(test)"
   ]
  },
  {
   "cell_type": "code",
   "execution_count": 9,
   "metadata": {},
   "outputs": [
    {
     "name": "stdout",
     "output_type": "stream",
     "text": [
      "['C:\\\\Users\\\\jcbegs\\\\Desktop\\\\Lab_Business\\\\AG_Dean\\\\calcium_imaging\\\\calcium imaging videos\\\\2fps_exp_fit_DUP_wtRt_100k_.4ul_hSyn_DIV20_48h_ctrl_60x_c1_r002', 'C:\\\\Users\\\\jcbegs\\\\Desktop\\\\Lab_Business\\\\AG_Dean\\\\calcium_imaging\\\\calcium imaging videos\\\\2fps_non_corr_wtRt_100k_.4ul_hSyn_DIV20_48h_ctrl_60x_c1_r002', 'C:\\\\Users\\\\jcbegs\\\\Desktop\\\\Lab_Business\\\\AG_Dean\\\\calcium_imaging\\\\calcium imaging videos\\\\2fps_simple_ratio_DUP_wtRt_100k_.4ul_hSyn_DIV20_48h_ctrl_60x_c1_r002', 'C:\\\\Users\\\\jcbegs\\\\Desktop\\\\Lab_Business\\\\AG_Dean\\\\calcium_imaging\\\\calcium imaging videos\\\\baseline+NBQX_wtRt_100k_.4ul_hSyn_DIV20_48h_ctrl_60x_NBQX_c1_r003', 'C:\\\\Users\\\\jcbegs\\\\Desktop\\\\Lab_Business\\\\AG_Dean\\\\calcium_imaging\\\\calcium imaging videos\\\\baseline_correction_FIJI', 'C:\\\\Users\\\\jcbegs\\\\Desktop\\\\Lab_Business\\\\AG_Dean\\\\calcium_imaging\\\\calcium imaging videos\\\\baseline_ctrl_wtRt 100k .5ul hSyn DIV20_homeo_ctrl', 'C:\\\\Users\\\\jcbegs\\\\Desktop\\\\Lab_Business\\\\AG_Dean\\\\calcium_imaging\\\\calcium imaging videos\\\\baselnwtRt_DIV20_AAV1_0.1ul_GCaMP_hSyn_48h_ctrl_well003_r002', 'C:\\\\Users\\\\jcbegs\\\\Desktop\\\\Lab_Business\\\\AG_Dean\\\\calcium_imaging\\\\calcium imaging videos\\\\exp_fit_DUP_wtRt_100k_.4ul_hSyn_DIV20_48h_ctrl_60x_c1_r002', 'C:\\\\Users\\\\jcbegs\\\\Desktop\\\\Lab_Business\\\\AG_Dean\\\\calcium_imaging\\\\calcium imaging videos\\\\GABA_wtRt_100k_.4ul_hSyn_DIV20_48h_gabaz_60x_c1_r001_baseline006', 'C:\\\\Users\\\\jcbegs\\\\Desktop\\\\Lab_Business\\\\AG_Dean\\\\calcium_imaging\\\\calcium imaging videos\\\\simple_ratio_DUP_wtRt_100k_.4ul_hSyn_DIV20_48h_ctrl_60x_c1_r002', 'C:\\\\Users\\\\jcbegs\\\\Desktop\\\\Lab_Business\\\\AG_Dean\\\\calcium_imaging\\\\calcium imaging videos\\\\suite2p', 'C:\\\\Users\\\\jcbegs\\\\Desktop\\\\Lab_Business\\\\AG_Dean\\\\calcium_imaging\\\\calcium imaging videos\\\\TTX_homeo_wtRt_DIV20_AAV1_0.1ul_GCaMP_hSyn_48h_TTX_well001_r001', 'C:\\\\Users\\\\jcbegs\\\\Desktop\\\\Lab_Business\\\\AG_Dean\\\\calcium_imaging\\\\calcium imaging videos\\\\wtMs_225k_.0.5ul_hSyn_DIV14_baseline_PDBu_APV_r003', 'C:\\\\Users\\\\jcbegs\\\\Desktop\\\\Lab_Business\\\\AG_Dean\\\\calcium_imaging\\\\calcium imaging videos\\\\wtRt_100k_.4ul_hSyn_DIV20_48h_ctrl_60x_c1_r002']\n"
     ]
    }
   ],
   "source": [
    "import os\n",
    "\n",
    "folder_path = r\"C:\\Users\\jcbegs\\Desktop\\Lab_Business\\AG_Dean\\calcium_imaging\\calcium imaging videos\"  # Replace with the path of your folder\n",
    "\n",
    "subfolders = [f.path for f in os.scandir(folder_path) if f.is_dir()]\n",
    "\n",
    "print(subfolders)"
   ]
  },
  {
   "cell_type": "code",
   "execution_count": 12,
   "id": "5907b46f",
   "metadata": {},
   "outputs": [
    {
     "name": "stdout",
     "output_type": "stream",
     "text": [
      "{'h5py': [], 'h5py_key': 'data', 'look_one_level_down': False, 'data_path': 'C:\\\\Users\\\\jcbegs\\\\Desktop\\\\Lab_Business\\\\AG_Dean\\\\calcium_imaging\\\\calcium imaging videos', 'subfolders': ['C:\\\\Users\\\\jcbegs\\\\Desktop\\\\Lab_Business\\\\AG_Dean\\\\calcium_imaging\\\\calcium imaging videos\\\\2fps_exp_fit_DUP_wtRt_100k_.4ul_hSyn_DIV20_48h_ctrl_60x_c1_r002', 'C:\\\\Users\\\\jcbegs\\\\Desktop\\\\Lab_Business\\\\AG_Dean\\\\calcium_imaging\\\\calcium imaging videos\\\\2fps_non_corr_wtRt_100k_.4ul_hSyn_DIV20_48h_ctrl_60x_c1_r002', 'C:\\\\Users\\\\jcbegs\\\\Desktop\\\\Lab_Business\\\\AG_Dean\\\\calcium_imaging\\\\calcium imaging videos\\\\2fps_simple_ratio_DUP_wtRt_100k_.4ul_hSyn_DIV20_48h_ctrl_60x_c1_r002', 'C:\\\\Users\\\\jcbegs\\\\Desktop\\\\Lab_Business\\\\AG_Dean\\\\calcium_imaging\\\\calcium imaging videos\\\\baseline+NBQX_wtRt_100k_.4ul_hSyn_DIV20_48h_ctrl_60x_NBQX_c1_r003', 'C:\\\\Users\\\\jcbegs\\\\Desktop\\\\Lab_Business\\\\AG_Dean\\\\calcium_imaging\\\\calcium imaging videos\\\\baseline_correction_FIJI', 'C:\\\\Users\\\\jcbegs\\\\Desktop\\\\Lab_Business\\\\AG_Dean\\\\calcium_imaging\\\\calcium imaging videos\\\\baseline_ctrl_wtRt 100k .5ul hSyn DIV20_homeo_ctrl', 'C:\\\\Users\\\\jcbegs\\\\Desktop\\\\Lab_Business\\\\AG_Dean\\\\calcium_imaging\\\\calcium imaging videos\\\\baselnwtRt_DIV20_AAV1_0.1ul_GCaMP_hSyn_48h_ctrl_well003_r002', 'C:\\\\Users\\\\jcbegs\\\\Desktop\\\\Lab_Business\\\\AG_Dean\\\\calcium_imaging\\\\calcium imaging videos\\\\exp_fit_DUP_wtRt_100k_.4ul_hSyn_DIV20_48h_ctrl_60x_c1_r002', 'C:\\\\Users\\\\jcbegs\\\\Desktop\\\\Lab_Business\\\\AG_Dean\\\\calcium_imaging\\\\calcium imaging videos\\\\GABA_wtRt_100k_.4ul_hSyn_DIV20_48h_gabaz_60x_c1_r001_baseline006', 'C:\\\\Users\\\\jcbegs\\\\Desktop\\\\Lab_Business\\\\AG_Dean\\\\calcium_imaging\\\\calcium imaging videos\\\\simple_ratio_DUP_wtRt_100k_.4ul_hSyn_DIV20_48h_ctrl_60x_c1_r002', 'C:\\\\Users\\\\jcbegs\\\\Desktop\\\\Lab_Business\\\\AG_Dean\\\\calcium_imaging\\\\calcium imaging videos\\\\suite2p', 'C:\\\\Users\\\\jcbegs\\\\Desktop\\\\Lab_Business\\\\AG_Dean\\\\calcium_imaging\\\\calcium imaging videos\\\\TTX_homeo_wtRt_DIV20_AAV1_0.1ul_GCaMP_hSyn_48h_TTX_well001_r001', 'C:\\\\Users\\\\jcbegs\\\\Desktop\\\\Lab_Business\\\\AG_Dean\\\\calcium_imaging\\\\calcium imaging videos\\\\wtMs_225k_.0.5ul_hSyn_DIV14_baseline_PDBu_APV_r003', 'C:\\\\Users\\\\jcbegs\\\\Desktop\\\\Lab_Business\\\\AG_Dean\\\\calcium_imaging\\\\calcium imaging videos\\\\wtRt_100k_.4ul_hSyn_DIV20_48h_ctrl_60x_c1_r002'], 'fast_disk': 'C:/users/jcbegs/python3/binaries', 'tiff_list': ['2fps_exp_fit_DUP_wtRt_100k_.4ul_hSyn_DIV20_48h_ctrl_60x_c1_r002.tif', '2fps_non_corr_wtRt_100k_.4ul_hSyn_DIV20_48h_ctrl_60x_c1_r002.tif', '2fps_simple_ratio_DUP_wtRt_100k_.4ul_hSyn_DIV20_48h_ctrl_60x_c1_r002.tif', 'baseline_ctrl_wtRt 100k .5ul hSyn DIV20_homeo_ctrl.tif']}\n",
      "tif\n",
      "** Found 4 tifs - converting to binary **\n",
      "NOTE: ScanImageTiffReader not working for this tiff type, using tifffile\n"
     ]
    },
    {
     "ename": "FileNotFoundError",
     "evalue": "[Errno 2] No such file or directory: 'C:\\\\Users\\\\jcbegs\\\\python3\\\\JupyterNotebooks\\\\Calcium_Imaging\\\\run_s2p_synapse\\\\spont_syn_process\\\\C\\\\2fps_exp_fit_DUP_wtRt_100k_.4ul_hSyn_DIV20_48h_ctrl_60x_c1_r002.tif'",
     "output_type": "error",
     "traceback": [
      "\u001b[1;31m---------------------------------------------------------------------------\u001b[0m",
      "\u001b[1;31mFileNotFoundError\u001b[0m                         Traceback (most recent call last)",
      "Cell \u001b[1;32mIn[12], line 11\u001b[0m\n\u001b[0;32m      1\u001b[0m db \u001b[39m=\u001b[39m {\n\u001b[0;32m      2\u001b[0m     \u001b[39m'\u001b[39m\u001b[39mh5py\u001b[39m\u001b[39m'\u001b[39m: [],\n\u001b[0;32m      3\u001b[0m     \u001b[39m'\u001b[39m\u001b[39mh5py_key\u001b[39m\u001b[39m'\u001b[39m: \u001b[39m'\u001b[39m\u001b[39mdata\u001b[39m\u001b[39m'\u001b[39m,\n\u001b[1;32m   (...)\u001b[0m\n\u001b[0;32m      9\u001b[0m                   \u001b[39m'\u001b[39m\u001b[39m2fps_simple_ratio_DUP_wtRt_100k_.4ul_hSyn_DIV20_48h_ctrl_60x_c1_r002.tif\u001b[39m\u001b[39m'\u001b[39m,\u001b[39m'\u001b[39m\u001b[39mbaseline_ctrl_wtRt 100k .5ul hSyn DIV20_homeo_ctrl.tif\u001b[39m\u001b[39m'\u001b[39m]\n\u001b[0;32m     10\u001b[0m }\n\u001b[1;32m---> 11\u001b[0m ops_End \u001b[39m=\u001b[39m run_s2p(ops\u001b[39m=\u001b[39;49mmain_synapse_ops, db\u001b[39m=\u001b[39;49mdb)\n",
      "File \u001b[1;32m~\\AppData\\Roaming\\Python\\Python39\\site-packages\\suite2p\\run_s2p.py:476\u001b[0m, in \u001b[0;36mrun_s2p\u001b[1;34m(ops, db, server)\u001b[0m\n\u001b[0;32m    474\u001b[0m         ops0 \u001b[39m=\u001b[39m ops0[\u001b[39m0\u001b[39m]\n\u001b[0;32m    475\u001b[0m \u001b[39melse\u001b[39;00m:\n\u001b[1;32m--> 476\u001b[0m     ops0 \u001b[39m=\u001b[39m io\u001b[39m.\u001b[39;49mtiff_to_binary(ops\u001b[39m.\u001b[39;49mcopy())\n\u001b[0;32m    478\u001b[0m plane_folders \u001b[39m=\u001b[39m natsorted([\n\u001b[0;32m    479\u001b[0m     f\u001b[39m.\u001b[39mpath\n\u001b[0;32m    480\u001b[0m     \u001b[39mfor\u001b[39;00m f \u001b[39min\u001b[39;00m os\u001b[39m.\u001b[39mscandir(save_folder)\n\u001b[0;32m    481\u001b[0m     \u001b[39mif\u001b[39;00m f\u001b[39m.\u001b[39mis_dir() \u001b[39mand\u001b[39;00m f\u001b[39m.\u001b[39mname[:\u001b[39m5\u001b[39m] \u001b[39m==\u001b[39m \u001b[39m\"\u001b[39m\u001b[39mplane\u001b[39m\u001b[39m\"\u001b[39m\n\u001b[0;32m    482\u001b[0m ])\n\u001b[0;32m    483\u001b[0m ops_paths \u001b[39m=\u001b[39m [os\u001b[39m.\u001b[39mpath\u001b[39m.\u001b[39mjoin(f, \u001b[39m\"\u001b[39m\u001b[39mops.npy\u001b[39m\u001b[39m\"\u001b[39m) \u001b[39mfor\u001b[39;00m f \u001b[39min\u001b[39;00m plane_folders]\n",
      "File \u001b[1;32m~\\AppData\\Roaming\\Python\\Python39\\site-packages\\suite2p\\io\\tiff.py:155\u001b[0m, in \u001b[0;36mtiff_to_binary\u001b[1;34m(ops)\u001b[0m\n\u001b[0;32m    152\u001b[0m ntotal \u001b[39m=\u001b[39m \u001b[39m0\u001b[39m\n\u001b[0;32m    153\u001b[0m \u001b[39mfor\u001b[39;00m ik, file \u001b[39min\u001b[39;00m \u001b[39menumerate\u001b[39m(fs):\n\u001b[0;32m    154\u001b[0m     \u001b[39m# open tiff\u001b[39;00m\n\u001b[1;32m--> 155\u001b[0m     tif, Ltif \u001b[39m=\u001b[39m open_tiff(file, use_sktiff)\n\u001b[0;32m    156\u001b[0m     \u001b[39m# keep track of the plane identity of the first frame (channel identity is assumed always 0)\u001b[39;00m\n\u001b[0;32m    157\u001b[0m     \u001b[39mif\u001b[39;00m ops[\u001b[39m\"\u001b[39m\u001b[39mfirst_tiffs\u001b[39m\u001b[39m\"\u001b[39m][ik]:\n",
      "File \u001b[1;32m~\\AppData\\Roaming\\Python\\Python39\\site-packages\\suite2p\\io\\tiff.py:89\u001b[0m, in \u001b[0;36mopen_tiff\u001b[1;34m(file, sktiff)\u001b[0m\n\u001b[0;32m     87\u001b[0m \u001b[39m\"\"\" Returns image and its length from tiff file with either ScanImageTiffReader or tifffile, based on \"sktiff\" \"\"\"\u001b[39;00m\n\u001b[0;32m     88\u001b[0m \u001b[39mif\u001b[39;00m sktiff:\n\u001b[1;32m---> 89\u001b[0m     tif \u001b[39m=\u001b[39m TiffFile(file)\n\u001b[0;32m     90\u001b[0m     Ltif \u001b[39m=\u001b[39m \u001b[39mlen\u001b[39m(tif\u001b[39m.\u001b[39mpages)\n\u001b[0;32m     91\u001b[0m \u001b[39melse\u001b[39;00m:\n",
      "File \u001b[1;32mc:\\Users\\jcbegs\\.conda\\envs\\analysis\\lib\\site-packages\\tifffile\\tifffile.py:3993\u001b[0m, in \u001b[0;36mTiffFile.__init__\u001b[1;34m(self, file, mode, name, offset, size, omexml, _multifile, _useframes, _parent, **is_flags)\u001b[0m\n\u001b[0;32m   3990\u001b[0m \u001b[39mif\u001b[39;00m mode \u001b[39mnot\u001b[39;00m \u001b[39min\u001b[39;00m (\u001b[39mNone\u001b[39;00m, \u001b[39m'\u001b[39m\u001b[39mr\u001b[39m\u001b[39m'\u001b[39m, \u001b[39m'\u001b[39m\u001b[39mr+\u001b[39m\u001b[39m'\u001b[39m, \u001b[39m'\u001b[39m\u001b[39mrb\u001b[39m\u001b[39m'\u001b[39m, \u001b[39m'\u001b[39m\u001b[39mr+b\u001b[39m\u001b[39m'\u001b[39m):\n\u001b[0;32m   3991\u001b[0m     \u001b[39mraise\u001b[39;00m \u001b[39mValueError\u001b[39;00m(\u001b[39mf\u001b[39m\u001b[39m'\u001b[39m\u001b[39minvalid mode \u001b[39m\u001b[39m{\u001b[39;00mmode\u001b[39m!r}\u001b[39;00m\u001b[39m'\u001b[39m)\n\u001b[1;32m-> 3993\u001b[0m fh \u001b[39m=\u001b[39m FileHandle(file, mode\u001b[39m=\u001b[39;49mmode, name\u001b[39m=\u001b[39;49mname, offset\u001b[39m=\u001b[39;49moffset, size\u001b[39m=\u001b[39;49msize)\n\u001b[0;32m   3994\u001b[0m \u001b[39mself\u001b[39m\u001b[39m.\u001b[39m_fh \u001b[39m=\u001b[39m fh\n\u001b[0;32m   3995\u001b[0m \u001b[39mself\u001b[39m\u001b[39m.\u001b[39m_multifile \u001b[39m=\u001b[39m \u001b[39mTrue\u001b[39;00m \u001b[39mif\u001b[39;00m _multifile \u001b[39mis\u001b[39;00m \u001b[39mNone\u001b[39;00m \u001b[39melse\u001b[39;00m \u001b[39mbool\u001b[39m(_multifile)\n",
      "File \u001b[1;32mc:\\Users\\jcbegs\\.conda\\envs\\analysis\\lib\\site-packages\\tifffile\\tifffile.py:13929\u001b[0m, in \u001b[0;36mFileHandle.__init__\u001b[1;34m(self, file, mode, name, offset, size)\u001b[0m\n\u001b[0;32m  13927\u001b[0m \u001b[39mself\u001b[39m\u001b[39m.\u001b[39m_close \u001b[39m=\u001b[39m \u001b[39mTrue\u001b[39;00m\n\u001b[0;32m  13928\u001b[0m \u001b[39mself\u001b[39m\u001b[39m.\u001b[39m_lock \u001b[39m=\u001b[39m NullContext()\n\u001b[1;32m> 13929\u001b[0m \u001b[39mself\u001b[39;49m\u001b[39m.\u001b[39;49mopen()\n\u001b[0;32m  13930\u001b[0m \u001b[39massert\u001b[39;00m \u001b[39mself\u001b[39m\u001b[39m.\u001b[39m_fh \u001b[39mis\u001b[39;00m \u001b[39mnot\u001b[39;00m \u001b[39mNone\u001b[39;00m\n",
      "File \u001b[1;32mc:\\Users\\jcbegs\\.conda\\envs\\analysis\\lib\\site-packages\\tifffile\\tifffile.py:13944\u001b[0m, in \u001b[0;36mFileHandle.open\u001b[1;34m(self)\u001b[0m\n\u001b[0;32m  13942\u001b[0m \u001b[39mself\u001b[39m\u001b[39m.\u001b[39m_file \u001b[39m=\u001b[39m os\u001b[39m.\u001b[39mpath\u001b[39m.\u001b[39mrealpath(\u001b[39mself\u001b[39m\u001b[39m.\u001b[39m_file)\n\u001b[0;32m  13943\u001b[0m \u001b[39mself\u001b[39m\u001b[39m.\u001b[39m_dir, \u001b[39mself\u001b[39m\u001b[39m.\u001b[39m_name \u001b[39m=\u001b[39m os\u001b[39m.\u001b[39mpath\u001b[39m.\u001b[39msplit(\u001b[39mself\u001b[39m\u001b[39m.\u001b[39m_file)\n\u001b[1;32m> 13944\u001b[0m \u001b[39mself\u001b[39m\u001b[39m.\u001b[39m_fh \u001b[39m=\u001b[39m \u001b[39mopen\u001b[39;49m(\u001b[39mself\u001b[39;49m\u001b[39m.\u001b[39;49m_file, \u001b[39mself\u001b[39;49m\u001b[39m.\u001b[39;49m_mode)  \u001b[39m# type: ignore\u001b[39;00m\n\u001b[0;32m  13945\u001b[0m \u001b[39mself\u001b[39m\u001b[39m.\u001b[39m_close \u001b[39m=\u001b[39m \u001b[39mTrue\u001b[39;00m\n\u001b[0;32m  13946\u001b[0m \u001b[39mif\u001b[39;00m \u001b[39mself\u001b[39m\u001b[39m.\u001b[39m_offset \u001b[39m<\u001b[39m \u001b[39m0\u001b[39m:\n",
      "\u001b[1;31mFileNotFoundError\u001b[0m: [Errno 2] No such file or directory: 'C:\\\\Users\\\\jcbegs\\\\python3\\\\JupyterNotebooks\\\\Calcium_Imaging\\\\run_s2p_synapse\\\\spont_syn_process\\\\C\\\\2fps_exp_fit_DUP_wtRt_100k_.4ul_hSyn_DIV20_48h_ctrl_60x_c1_r002.tif'"
     ]
    }
   ],
   "source": [
    "db = {\n",
    "    'h5py': [],\n",
    "    'h5py_key': 'data',\n",
    "    'look_one_level_down': False,\n",
    "    'data_path': folder_path,\n",
    "    'subfolders': subfolders,\n",
    "    'fast_disk': 'C:/users/jcbegs/python3/binaries',\n",
    "    'tiff_list': ['2fps_exp_fit_DUP_wtRt_100k_.4ul_hSyn_DIV20_48h_ctrl_60x_c1_r002.tif', '2fps_non_corr_wtRt_100k_.4ul_hSyn_DIV20_48h_ctrl_60x_c1_r002.tif', \n",
    "                  '2fps_simple_ratio_DUP_wtRt_100k_.4ul_hSyn_DIV20_48h_ctrl_60x_c1_r002.tif','baseline_ctrl_wtRt 100k .5ul hSyn DIV20_homeo_ctrl.tif']\n",
    "}\n",
    "ops_End = run_s2p(ops=main_synapse_ops, db=db)"
   ]
  },
  {
   "cell_type": "code",
   "execution_count": 18,
   "id": "489a09aa",
   "metadata": {},
   "outputs": [],
   "source": [
    "create_masks_and_extract?a"
   ]
  },
  {
   "cell_type": "code",
   "execution_count": 9,
   "id": "d7614283",
   "metadata": {},
   "outputs": [],
   "source": [
    "\n"
   ]
  },
  {
   "cell_type": "code",
   "execution_count": 19,
   "id": "43e16b59",
   "metadata": {},
   "outputs": [
    {
     "ename": "NameError",
     "evalue": "name 'masks' is not defined",
     "output_type": "error",
     "traceback": [
      "\u001b[1;31m---------------------------------------------------------------------------\u001b[0m",
      "\u001b[1;31mNameError\u001b[0m                                 Traceback (most recent call last)",
      "Input \u001b[1;32mIn [19]\u001b[0m, in \u001b[0;36m<cell line: 5>\u001b[1;34m()\u001b[0m\n\u001b[0;32m      1\u001b[0m \u001b[38;5;66;03m# Stringer-pose\u001b[39;00m\n\u001b[0;32m      2\u001b[0m \n\u001b[0;32m      3\u001b[0m \u001b[38;5;66;03m# make stat array\u001b[39;00m\n\u001b[0;32m      4\u001b[0m stat \u001b[38;5;241m=\u001b[39m []\n\u001b[1;32m----> 5\u001b[0m \u001b[38;5;28;01mfor\u001b[39;00m u \u001b[38;5;129;01min\u001b[39;00m np\u001b[38;5;241m.\u001b[39munique(\u001b[43mmasks\u001b[49m)[\u001b[38;5;241m1\u001b[39m:]:\n\u001b[0;32m      6\u001b[0m     ypix,xpix \u001b[38;5;241m=\u001b[39m np\u001b[38;5;241m.\u001b[39mnonzero(masks\u001b[38;5;241m==\u001b[39mu)\n\u001b[0;32m      7\u001b[0m     npix \u001b[38;5;241m=\u001b[39m \u001b[38;5;28mlen\u001b[39m(ypix)\n",
      "\u001b[1;31mNameError\u001b[0m: name 'masks' is not defined"
     ]
    }
   ],
   "source": [
    "# Cellpose GUI init\n",
    "# Stringer-pose\n",
    "\n",
    "# make stat array\n",
    "stat = []\n",
    "#unsure how to define masks here\n",
    "for u in np.unique(masks)[1:]:\n",
    "    ypix,xpix = np.nonzero(masks==u)\n",
    "    npix = len(ypix)\n",
    "    stat.append({'ypix': ypix, 'xpix': xpix, 'npix': npix, 'lam': np.ones(npix, np.float32)})\n",
    "stat = np.array(stat)\n",
    "\n",
    "# run extraction\n",
    "F, Fneu,_,_ = compute_masks_and_extract_traces(ops, stat)\n",
    "\n",
    "# subtract neuropil\n",
    "dF = F - ops['neucoeff'] * Fneu\n",
    "\n",
    "# compute activity statistics for classifier\n",
    "sk = stats.skew(dF, axis=1)\n",
    "sd = np.std(dF, axis=1)\n",
    "for k in range(F.shape[0]):\n",
    "    stat[k]['skew'] = sk[k]\n",
    "    stat[k]['std']  = sd[k]\n",
    "\n",
    "# fpath = ops['save_path']\n",
    "# # save ops\n",
    "# np.save(ops['ops_path'], ops)\n",
    "# # save results\n",
    "# np.save(os.path.join(fpath,'F.npy'), F)\n",
    "# np.save(os.path.join(fpath,'Fneu.npy'), Fneu)\n",
    "# np.save(os.path.join(fpath,'stat.npy'), stat)"
   ]
  },
  {
   "cell_type": "code",
   "execution_count": null,
   "id": "ccbf19bc",
   "metadata": {},
   "outputs": [],
   "source": [
    "# Cumol_Pose Using Cellpose for ROI detection in suite2p\n",
    "masks = np.load('Z:Muad/ca-imaging/exp182-20200211/5drg-wt-gradient/13_seg.npy', allow_pickle = True)\n",
    "\n",
    "masks = masks[()]['masks']\n",
    "\n",
    "ops = np.load('Z:Muad/ca-imaging/exp182-20200211/5drg-wt-gradient/RAW/suite2p/plane0/ops.npy', allow_pickle = True)\n",
    "\n",
    "ops = ops[()]\n",
    "\n",
    "# make stat array\n",
    "stat = []\n",
    "for u in np.unique(masks)[1:]:\n",
    "    ypix,xpix = np.nonzero(masks==u)\n",
    "    npix = len(ypix)\n",
    "    stat.append({'xpix': xpix, 'ypix': ypix, 'npix': npix, 'lam': np.ones(npix, np.float32)})\n",
    "stat = np.array(stat)\n",
    "\n",
    "# run extraction\n",
    "F, Fneu,_,_ = compute_masks_and_extract_traces(ops, stat)\n",
    "\n",
    "# subtract neuropil\n",
    "dF = F - ops['neucoeff'] * Fneu\n",
    "\n",
    "# compute activity statistics for classifier\n",
    "sk = stats.skew(dF, axis=1)\n",
    "sd = np.std(dF, axis=1)\n",
    "for k in range(F.shape[0]):\n",
    "    stat[k]['skew'] = sk[k]\n",
    "    stat[k]['std']  = sd[k]\n",
    "\n",
    "fpath = ops['save_path']\n",
    "# save ops\n",
    "np.save(ops['ops_path'], ops)\n",
    "# save results\n",
    "np.save(os.path.join(fpath,'F.npy'), F)\n",
    "np.save(os.path.join(fpath,'Fneu.npy'), Fneu)\n",
    "np.save(os.path.join(fpath,'stat.npy'), stat)\n",
    "\n",
    "\n",
    "\n",
    "masknew=masks[0]"
   ]
  },
  {
   "cell_type": "code",
   "execution_count": null,
   "id": "31376330",
   "metadata": {},
   "outputs": [],
   "source": [
    "#Cumol_pose_v2\n",
    "\n",
    "masknew = masks[0]\n",
    "\n",
    "ops1 = np.load('Z:Muad/ca-imaging/exp182-20200211/5drg-wt-gradient/RAW/suite2p/ops1.npy', allow_pickle = True)\n",
    "\n",
    "ops = ops1[0]\n",
    "\n",
    "# make stat array\n",
    "stat = []\n",
    "for u in np.unique(masknew)[1:]:\n",
    "    ypix,xpix = np.nonzero(masknew==u)\n",
    "    npix = len(xpix)\n",
    "    stat.append({'ypix': ypix, 'xpix': xpix, 'npix': npix, 'lam': np.ones(npix, np.float32)})\n",
    "stat = np.array(stat)\n",
    "\n",
    "# run extraction\n",
    "F, Fneu,_,_, ops, stat = compute_masks_and_extract_traces(ops, stat)\n",
    "\n",
    "# subtract neuropil\n",
    "dF = F - ops['neucoeff'] * Fneu\n",
    "\n",
    "# compute activity statistics for classifier\n",
    "sk = stats.skew(dF, axis=1)\n",
    "sd = np.std(dF, axis=1)\n",
    "for k in range(F.shape[0]):\n",
    "    stat[k]['skew'] = sk[k]\n",
    "    stat[k]['std']  = sd[k]\n",
    "\n",
    "fpath = ops['save_path']\n",
    "# save ops\n",
    "np.save(ops['ops_path'], ops)\n",
    "# save results\n",
    "np.save(os.path.join(fpath,'F.npy'), F)\n",
    "np.save(os.path.join(fpath,'Fneu.npy'), Fneu)\n",
    "np.save(os.path.join(fpath,'stat.npy'), stat)"
   ]
  }
 ],
 "metadata": {
  "kernelspec": {
   "display_name": "analysis",
   "language": "python",
   "name": "python3"
  },
  "language_info": {
   "codemirror_mode": {
    "name": "ipython",
    "version": 3
   },
   "file_extension": ".py",
   "mimetype": "text/x-python",
   "name": "python",
   "nbconvert_exporter": "python",
   "pygments_lexer": "ipython3",
   "version": "3.9.16"
  }
 },
 "nbformat": 4,
 "nbformat_minor": 5
}
